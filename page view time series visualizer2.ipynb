{
 "cells": [
  {
   "cell_type": "code",
   "execution_count": 14,
   "id": "d4a5e515-308b-472f-af76-675cdb7d7ae3",
   "metadata": {},
   "outputs": [
    {
     "name": "stdout",
     "output_type": "stream",
     "text": [
      "CSV file 'fcc-forum-pageviews.csv' created successfully!\n"
     ]
    }
   ],
   "source": [
    "import pandas as pd\n",
    "import numpy as np\n",
    "\n",
    "# Generate sample data\n",
    "dates = pd.date_range(start=\"2016-05-09\", end=\"2019-12-03\", freq='D')  # Daily frequency\n",
    "page_views = np.random.randint(1000, 5000, size=len(dates))  # Random page views between 1000 and 5000\n",
    "\n",
    "# Create a DataFrame\n",
    "df = pd.DataFrame({'date': dates, 'page_views': page_views})\n",
    "\n",
    "# Save the DataFrame to a CSV file\n",
    "df.to_csv('fcc-forum-pageviews.csv', index=False)\n",
    "\n",
    "print(\"CSV file 'fcc-forum-pageviews.csv' created successfully!\")"
   ]
  },
  {
   "cell_type": "code",
   "execution_count": 20,
   "id": "9c3c87f3-88e7-4d26-96a4-128d0ae24e78",
   "metadata": {},
   "outputs": [
    {
     "name": "stdout",
     "output_type": "stream",
     "text": [
      "CSV file 'fcc-forum-pageviews.csv' created successfully!\n"
     ]
    }
   ],
   "source": [
    "#importing the data and cleaning\n",
    "import pandas as pd\n",
    "import numpy as np\n",
    "\n",
    "dates = pd.date_range(start=\"2016-05-09\", end=\"2019-12-03\", freq='D')\n",
    "page_views = np.random.randint(1000, 5000, size=len(dates))\n",
    "\n",
    "df = pd.DataFrame({'date': dates, 'page_views': page_views})\n",
    "\n",
    "df.to_csv('fcc-forum-pageviews.csv', index=False)\n",
    "\n",
    "print(\"CSV file 'fcc-forum-pageviews.csv' created successfully!\")\n"
   ]
  },
  {
   "cell_type": "code",
   "execution_count": 22,
   "id": "0c8879af-2e7c-47ab-8434-a8b651c445b1",
   "metadata": {},
   "outputs": [
    {
     "name": "stdout",
     "output_type": "stream",
     "text": [
      "0    3412\n",
      "1    2836\n",
      "2    3891\n",
      "3    2665\n",
      "4    1383\n",
      "Name: page_views, dtype: int32\n",
      "        date  page_views\n",
      "0 2016-05-09        3412\n",
      "1 2016-05-10        2836\n",
      "2 2016-05-11        3891\n",
      "3 2016-05-12        2665\n",
      "4 2016-05-13        1383\n",
      "         date  page_views\n",
      "0  2016-05-09        3412\n",
      "2  2016-05-11        3891\n",
      "5  2016-05-14        3447\n",
      "7  2016-05-16        3141\n",
      "11 2016-05-20        3168\n",
      "          date  page_views\n",
      "357 2017-05-01        1893\n",
      "358 2017-05-02        3850\n",
      "359 2017-05-03        1162\n",
      "360 2017-05-04        2454\n",
      "361 2017-05-05        1290\n",
      "        date  page_views  page_views_k\n",
      "0 2016-05-09        3412         3.412\n",
      "1 2016-05-10        2836         2.836\n",
      "2 2016-05-11        3891         3.891\n",
      "3 2016-05-12        2665         2.665\n",
      "4 2016-05-13        1383         1.383\n",
      "   view_date  views  page_views_k\n",
      "0 2016-05-09   3412         3.412\n",
      "1 2016-05-10   2836         2.836\n",
      "2 2016-05-11   3891         3.891\n",
      "3 2016-05-12   2665         2.665\n",
      "4 2016-05-13   1383         1.383\n"
     ]
    }
   ],
   "source": [
    "page_views_column = df['page_views']\n",
    "print(page_views_column.head())\n",
    "\n",
    "selected_columns = df[['date', 'page_views']]\n",
    "print(selected_columns.head())\n",
    "\n",
    "filtered_df = df[df['page_views'] > 3000]\n",
    "print(filtered_df.head())\n",
    "\n",
    "df['date'] = pd.to_datetime(df['date'])\n",
    "may_2017 = df[(df['date'] >= '2017-05-01') & (df['date'] < '2017-06-01')]\n",
    "print(may_2017.head())\n",
    "\n",
    "df['page_views_k'] = df['page_views'] / 1000\n",
    "print(df.head())\n",
    "\n",
    "df.rename(columns={'page_views': 'views', 'date': 'view_date'}, inplace=True)\n",
    "print(df.head())"
   ]
  },
  {
   "cell_type": "code",
   "execution_count": 26,
   "id": "1a25a961-f8a8-4cb8-ad32-2d8cf7eb34a6",
   "metadata": {},
   "outputs": [
    {
     "name": "stdout",
     "output_type": "stream",
     "text": [
      "view_date       0\n",
      "views           0\n",
      "page_views_k    0\n",
      "dtype: int64\n",
      "   view_date  views  page_views_k\n",
      "0 2016-05-09   3412         3.412\n",
      "1 2016-05-10   2836         2.836\n",
      "2 2016-05-11   3891         3.891\n",
      "3 2016-05-12   2665         2.665\n",
      "4 2016-05-13   1383         1.383\n",
      "   view_date  views  page_views_k\n",
      "0 2016-05-09   3412         3.412\n",
      "1 2016-05-10   2836         2.836\n",
      "2 2016-05-11   3891         3.891\n",
      "3 2016-05-12   2665         2.665\n",
      "4 2016-05-13   1383         1.383\n",
      "   view_date  views  page_views_k\n",
      "0 2016-05-09   3412         3.412\n",
      "1 2016-05-10   2836         2.836\n",
      "2 2016-05-11   3891         3.891\n",
      "3 2016-05-12   2665         2.665\n",
      "4 2016-05-13   1383         1.383\n",
      "   view_date  views  page_views_k\n",
      "0 2016-05-09   3412         3.412\n",
      "1 2016-05-10   2836         2.836\n",
      "2 2016-05-11   3891         3.891\n",
      "3 2016-05-12   2665         2.665\n",
      "4 2016-05-13   1383         1.383\n",
      "   view_date  views  page_views_k\n",
      "0 2016-05-09   3412         3.412\n",
      "1 2016-05-10   2836         2.836\n",
      "2 2016-05-11   3891         3.891\n",
      "3 2016-05-12   2665         2.665\n",
      "4 2016-05-13   1383         1.383\n"
     ]
    },
    {
     "name": "stderr",
     "output_type": "stream",
     "text": [
      "C:\\Users\\mp12y\\AppData\\Local\\Temp\\ipykernel_2628\\1113017724.py:13: FutureWarning: A value is trying to be set on a copy of a DataFrame or Series through chained assignment using an inplace method.\n",
      "The behavior will change in pandas 3.0. This inplace method will never work because the intermediate object on which we are setting values always behaves as a copy.\n",
      "\n",
      "For example, when doing 'df[col].method(value, inplace=True)', try using 'df.method({col: value}, inplace=True)' or df[col] = df[col].method(value) instead, to perform the operation inplace on the original object.\n",
      "\n",
      "\n",
      "  df['views'].fillna(df['views'].mean(), inplace=True)\n"
     ]
    }
   ],
   "source": [
    "missing_values = df.isnull().sum()\n",
    "print(missing_values)\n",
    "\n",
    "df_cleaned = df.dropna()\n",
    "print(df_cleaned.head())\n",
    "\n",
    "df_cleaned = df.dropna(subset=['views'])\n",
    "print(df_cleaned.head())\n",
    "\n",
    "df_filled = df.fillna(0)\n",
    "print(df_filled.head())\n",
    "\n",
    "df['views'].fillna(df['views'].mean(), inplace=True)\n",
    "print(df.head())\n",
    "\n",
    "df['views'] = df['views'].apply(lambda x: 4500 if x > 4500 else x)\n",
    "print(df.head())"
   ]
  },
  {
   "cell_type": "code",
   "execution_count": 28,
   "id": "f0858dd5-3983-41e6-a85f-57d53aeeb5ff",
   "metadata": {},
   "outputs": [
    {
     "name": "stdout",
     "output_type": "stream",
     "text": [
      "CSV file 'fcc-forum-pageviews-cleaned.csv' saved successfully!\n"
     ]
    }
   ],
   "source": [
    "df.to_csv('fcc-forum-pageviews-cleaned.csv', index=False)\n",
    "print(\"CSV file 'fcc-forum-pageviews-cleaned.csv' saved successfully!\")"
   ]
  },
  {
   "cell_type": "code",
   "execution_count": 30,
   "id": "75bb1be1-5811-4bb3-9ffd-7e0e2c4196ca",
   "metadata": {},
   "outputs": [
    {
     "name": "stdout",
     "output_type": "stream",
     "text": [
      "Manipulation complete and new CSV file saved!\n"
     ]
    },
    {
     "name": "stderr",
     "output_type": "stream",
     "text": [
      "C:\\Users\\mp12y\\AppData\\Local\\Temp\\ipykernel_2628\\2556566440.py:10: FutureWarning: A value is trying to be set on a copy of a DataFrame or Series through chained assignment using an inplace method.\n",
      "The behavior will change in pandas 3.0. This inplace method will never work because the intermediate object on which we are setting values always behaves as a copy.\n",
      "\n",
      "For example, when doing 'df[col].method(value, inplace=True)', try using 'df.method({col: value}, inplace=True)' or df[col] = df[col].method(value) instead, to perform the operation inplace on the original object.\n",
      "\n",
      "\n",
      "  df_filtered['views'].fillna(df_filtered['views'].mean(), inplace=True)\n",
      "C:\\Users\\mp12y\\AppData\\Local\\Temp\\ipykernel_2628\\2556566440.py:10: SettingWithCopyWarning: \n",
      "A value is trying to be set on a copy of a slice from a DataFrame\n",
      "\n",
      "See the caveats in the documentation: https://pandas.pydata.org/pandas-docs/stable/user_guide/indexing.html#returning-a-view-versus-a-copy\n",
      "  df_filtered['views'].fillna(df_filtered['views'].mean(), inplace=True)\n",
      "C:\\Users\\mp12y\\AppData\\Local\\Temp\\ipykernel_2628\\2556566440.py:12: SettingWithCopyWarning: \n",
      "A value is trying to be set on a copy of a slice from a DataFrame.\n",
      "Try using .loc[row_indexer,col_indexer] = value instead\n",
      "\n",
      "See the caveats in the documentation: https://pandas.pydata.org/pandas-docs/stable/user_guide/indexing.html#returning-a-view-versus-a-copy\n",
      "  df_filtered['views_k'] = df_filtered['views'] / 1000\n"
     ]
    }
   ],
   "source": [
    "import pandas as pd\n",
    "import numpy as np\n",
    "\n",
    "df = pd.read_csv('fcc-forum-pageviews.csv')\n",
    "\n",
    "df.rename(columns={'page_views': 'views', 'date': 'view_date'}, inplace=True)\n",
    "\n",
    "df_filtered = df[df['views'] > 3000]\n",
    "\n",
    "df_filtered['views'].fillna(df_filtered['views'].mean(), inplace=True)\n",
    "\n",
    "df_filtered['views_k'] = df_filtered['views'] / 1000\n",
    "\n",
    "df_filtered.to_csv('fcc-forum-pageviews-cleaned.csv', index=False)\n",
    "\n",
    "print(\"Manipulation complete and new CSV file saved!\")"
   ]
  },
  {
   "cell_type": "code",
   "execution_count": 34,
   "id": "0d42fc7c-a60a-489e-9731-2f5064c17d10",
   "metadata": {},
   "outputs": [
    {
     "name": "stdout",
     "output_type": "stream",
     "text": [
      "   user_id     name  page_views\n",
      "0        1    Alice         200\n",
      "1        2      Bob         150\n",
      "2        3  Charlie         300\n"
     ]
    }
   ],
   "source": [
    "import pandas as pd\n",
    "\n",
    "df1 = pd.DataFrame({\n",
    "    'user_id': [1, 2, 3, 4],\n",
    "    'name': ['Alice', 'Bob', 'Charlie', 'David'],\n",
    "})\n",
    "\n",
    "df2 = pd.DataFrame({\n",
    "    'user_id': [1, 2, 3, 5],\n",
    "    'page_views': [200, 150, 300, 100],\n",
    "})\n",
    "\n",
    "merged_df = pd.merge(df1, df2, on='user_id', how='inner')\n",
    "print(merged_df)\n",
    "\n",
    "merged_df_left = pd.merge(df1, df2, on='user_id', how='left')\n",
    "merged_df_right = pd.merge(df1, df2, on='user_id', how='right')\n",
    "merged_df_outer = pd.merge(df1, df2, on='user_id', how='outer')"
   ]
  },
  {
   "cell_type": "code",
   "execution_count": 38,
   "id": "18240058-834e-42b3-8466-8b7bf2ad509a",
   "metadata": {},
   "outputs": [
    {
     "name": "stdout",
     "output_type": "stream",
     "text": [
      "            name  page_views\n",
      "user_id                     \n",
      "1          Alice         200\n",
      "2            Bob         150\n",
      "3        Charlie         300\n",
      "4          David         100\n"
     ]
    }
   ],
   "source": [
    "#joining dataframe\n",
    "df1 = pd.DataFrame({\n",
    "    'name': ['Alice', 'Bob', 'Charlie', 'David'],\n",
    "    'user_id': [1, 2, 3, 4],\n",
    "})\n",
    "df1.set_index('user_id', inplace=True)\n",
    "\n",
    "df2 = pd.DataFrame({\n",
    "    'page_views': [200, 150, 300, 100],\n",
    "}, index=[1, 2, 3, 4])\n",
    "\n",
    "joined_df = df1.join(df2)\n",
    "print(joined_df)\n",
    "\n",
    "joined_df_left = df1.join(df2, how='left')\n",
    "joined_df_right = df1.join(df2, how='right')\n",
    "joined_df_outer = df1.join(df2, how='outer')\n",
    "joined_df_inner = df1.join(df2, how='inner')"
   ]
  },
  {
   "cell_type": "code",
   "execution_count": 40,
   "id": "e09e8f21-5efe-4f6b-996c-a0fda1884b40",
   "metadata": {},
   "outputs": [
    {
     "name": "stdout",
     "output_type": "stream",
     "text": [
      "   user_id     name  page_views\n",
      "0        1    Alice         200\n",
      "2        3  Charlie         300\n"
     ]
    }
   ],
   "source": [
    "#quering dataframe\n",
    "df = pd.DataFrame({\n",
    "    'user_id': [1, 2, 3, 4],\n",
    "    'name': ['Alice', 'Bob', 'Charlie', 'David'],\n",
    "    'page_views': [200, 150, 300, 100],\n",
    "})\n",
    "\n",
    "filtered_df = df.query('page_views > 150')\n",
    "print(filtered_df)"
   ]
  },
  {
   "cell_type": "code",
   "execution_count": 42,
   "id": "b763d97d-ef5d-4fcc-a58f-ab28777d5077",
   "metadata": {},
   "outputs": [
    {
     "name": "stdout",
     "output_type": "stream",
     "text": [
      "   user_id     name  page_views\n",
      "0        1    Alice         200\n",
      "1        2      Bob         150\n",
      "0        3  Charlie         300\n",
      "1        4    David         100\n"
     ]
    }
   ],
   "source": [
    "#\n",
    "df1 = pd.DataFrame({\n",
    "    'user_id': [1, 2],\n",
    "    'name': ['Alice', 'Bob'],\n",
    "    'page_views': [200, 150],\n",
    "})\n",
    "\n",
    "df2 = pd.DataFrame({\n",
    "    'user_id': [3, 4],\n",
    "    'name': ['Charlie', 'David'],\n",
    "    'page_views': [300, 100],\n",
    "})\n",
    "\n",
    "concatenated_df = pd.concat([df1, df2])\n",
    "print(concatenated_df)"
   ]
  },
  {
   "cell_type": "code",
   "execution_count": 44,
   "id": "682683a5-9e9a-42e4-a7a2-6388938e79c4",
   "metadata": {},
   "outputs": [
    {
     "name": "stdout",
     "output_type": "stream",
     "text": [
      "   user_id     name  page_views  posts\n",
      "0        1    Alice         200      5\n",
      "2        3  Charlie         300     10\n"
     ]
    }
   ],
   "source": [
    "import pandas as pd\n",
    "\n",
    "users = pd.DataFrame({\n",
    "    'user_id': [1, 2, 3, 4],\n",
    "    'name': ['Alice', 'Bob', 'Charlie', 'David'],\n",
    "})\n",
    "\n",
    "page_views = pd.DataFrame({\n",
    "    'user_id': [1, 2, 3, 4],\n",
    "    'page_views': [200, 150, 300, 100],\n",
    "})\n",
    "\n",
    "posts = pd.DataFrame({\n",
    "    'user_id': [1, 2, 3, 4],\n",
    "    'posts': [5, 7, 10, 2],\n",
    "})\n",
    "\n",
    "merged_df = pd.merge(users, page_views, on='user_id', how='inner')\n",
    "\n",
    "final_df = merged_df.join(posts.set_index('user_id'), on='user_id')\n",
    "\n",
    "high_page_views = final_df.query('page_views > 150')\n",
    "print(high_page_views)"
   ]
  },
  {
   "cell_type": "code",
   "execution_count": null,
   "id": "17a6c87d-3d4b-45b9-a210-0165f19ea90c",
   "metadata": {},
   "outputs": [],
   "source": []
  }
 ],
 "metadata": {
  "kernelspec": {
   "display_name": "Python 3 (ipykernel)",
   "language": "python",
   "name": "python3"
  },
  "language_info": {
   "codemirror_mode": {
    "name": "ipython",
    "version": 3
   },
   "file_extension": ".py",
   "mimetype": "text/x-python",
   "name": "python",
   "nbconvert_exporter": "python",
   "pygments_lexer": "ipython3",
   "version": "3.12.4"
  }
 },
 "nbformat": 4,
 "nbformat_minor": 5
}
