{
 "cells": [
  {
   "cell_type": "code",
   "execution_count": 1,
   "id": "368c26dd-d0d4-4d2b-8036-234ddb3df54d",
   "metadata": {},
   "outputs": [
    {
     "name": "stdout",
     "output_type": "stream",
     "text": [
      "Total cost for apples and oranges: $22\n",
      "Total cost of renting the car: $280\n",
      "Remaining money after buying the jacket: $55\n",
      "Average score: 87.0\n",
      "Interest earned in 3 years: $150.0\n"
     ]
    }
   ],
   "source": [
    "def total_cost_apples_oranges(apples, oranges, cost_apple=2, cost_orange=3):\n",
    "    total_cost = (apples * cost_apple) + (oranges * cost_orange)\n",
    "    return total_cost\n",
    "\n",
    "def total_car_rental_cost(days, cost_per_day=40):\n",
    "    total_cost = days * cost_per_day\n",
    "    return total_cost\n",
    "\n",
    "def remaining_money(initial_money, jacket_cost):\n",
    "    remaining = initial_money - jacket_cost\n",
    "    return remaining\n",
    "\n",
    "def average_score(grades):\n",
    "    avg_score = sum(grades) / len(grades)\n",
    "    return avg_score\n",
    "def simple_interest(principal, rate, time):\n",
    "    interest = principal * rate * time\n",
    "    return interest\n",
    "\n",
    "apples = 5\n",
    "oranges = 4\n",
    "total_cost = total_cost_apples_oranges(apples, oranges)\n",
    "print(f\"Total cost for apples and oranges: ${total_cost}\")\n",
    "\n",
    "days = 7\n",
    "car_rental_cost = total_car_rental_cost(days)\n",
    "print(f\"Total cost of renting the car: ${car_rental_cost}\")\n",
    "\n",
    "initial_money = 100\n",
    "jacket_cost = 45\n",
    "remaining = remaining_money(initial_money, jacket_cost)\n",
    "print(f\"Remaining money after buying the jacket: ${remaining}\")\n",
    "\n",
    "grades = [80, 90, 85, 92, 88]\n",
    "average = average_score(grades)\n",
    "print(f\"Average score: {average}\")\n",
    "\n",
    "principal = 1000\n",
    "rate = 0.05\n",
    "time = 3\n",
    "interest = simple_interest(principal, rate, time)\n",
    "print(f\"Interest earned in 3 years: ${interest}\")"
   ]
  },
  {
   "cell_type": "code",
   "execution_count": 3,
   "id": "629d9723-1570-4562-a486-652b9a121310",
   "metadata": {},
   "outputs": [
    {
     "name": "stdout",
     "output_type": "stream",
     "text": [
      "Hello, Alice!\n",
      "Hi! Hi! Hi! \n",
      "Hello world\n",
      "hello\n",
      "HELLO WORLD\n"
     ]
    }
   ],
   "source": [
    "# String Manipulation\n",
    "greeting = \"Hello\"\n",
    "name = \"Alice\"\n",
    "full_greeting = greeting + \", \" + name + \"!\"\n",
    "print(full_greeting)\n",
    "\n",
    "repeated_greeting = \"Hi! \" * 3\n",
    "print(repeated_greeting)\n",
    "\n",
    "sentence = \"hello world\"\n",
    "capitalized_sentence = sentence.capitalize()\n",
    "print(capitalized_sentence)\n",
    "\n",
    "substring = sentence[0:5]\n",
    "print(substring)\n",
    "\n",
    "uppercase_sentence = sentence.upper()\n",
    "print(uppercase_sentence)\n"
   ]
  },
  {
   "cell_type": "code",
   "execution_count": 13,
   "id": "2fe5a2e7-b90d-4237-830d-cffa8ea95e1b",
   "metadata": {},
   "outputs": [
    {
     "name": "stdout",
     "output_type": "stream",
     "text": [
      "Sum: 13, Difference: 7, Product: 30, Division: 3.3333333333333335\n",
      "Integer Division: 3, Remainder: 1\n",
      "7\n",
      "10.0\n",
      "['apple', 'blueberry', 'banana', 'cherry', 'date']\n",
      "['apple', 'blueberry', 'cherry']\n",
      "Popped Fruit: date\n",
      "['blueberry', 'cherry']\n",
      "Length of list: 3, Is 'apple' in list? True\n"
     ]
    }
   ],
   "source": [
    "# Integer and Float Manipulation\n",
    "a = 10\n",
    "b = 3\n",
    "sum_result = a + b\n",
    "difference = a - b\n",
    "product = a * b\n",
    "division = a / b\n",
    "integer_division = a // b\n",
    "remainder = a % b\n",
    "\n",
    "print(f\"Sum: {sum_result}, Difference: {difference}, Product: {product}, Division: {division}\")\n",
    "print(f\"Integer Division: {integer_division}, Remainder: {remainder}\")\n",
    "\n",
    "float_num = 7.5\n",
    "int_num = int(float_num)\n",
    "print(int_num)\n",
    "\n",
    "converted_float = float(a)\n",
    "print(converted_float)\n",
    "\n",
    "# List Manipulation\n",
    "fruits = [\"apple\", \"banana\", \"cherry\"]\n",
    "\n",
    "fruits.append(\"date\")\n",
    "fruits.insert(1, \"blueberry\")\n",
    "print(fruits)\n",
    "\n",
    "fruits.remove(\"banana\")\n",
    "popped_fruit = fruits.pop()\n",
    "print(fruits)\n",
    "print(f\"Popped Fruit: {popped_fruit}\")\n",
    "\n",
    "sliced_fruits = fruits[1:3]\n",
    "print(sliced_fruits)\n",
    "\n",
    "list_length = len(fruits)\n",
    "is_apple_in_list = \"apple\" in fruits\n",
    "print(f\"Length of list: {list_length}, Is 'apple' in list? {is_apple_in_list}\")"
   ]
  },
  {
   "cell_type": "code",
   "execution_count": 11,
   "id": "d6c71094-a478-43d6-80cf-8ab0d3a71525",
   "metadata": {},
   "outputs": [
    {
     "name": "stdout",
     "output_type": "stream",
     "text": [
      "Name: Alice, Age: 30\n",
      "{'name': 'Alice', 'age': 31, 'city': 'New York', 'email': 'alice@example.com'}\n",
      "Removed Item: New York\n",
      "{'name': 'Alice', 'age': 31, 'email': 'alice@example.com'}\n",
      "Keys: dict_keys(['name', 'age', 'email']), Values: dict_values(['Alice', 31, 'alice@example.com'])\n"
     ]
    }
   ],
   "source": [
    "# Dictionary Manipulation\n",
    "person = {\"name\": \"Alice\", \"age\": 30, \"city\": \"New York\"}\n",
    "\n",
    "name = person[\"name\"]\n",
    "age = person.get(\"age\")\n",
    "print(f\"Name: {name}, Age: {age}\")\n",
    "\n",
    "person[\"email\"] = \"alice@example.com\"\n",
    "person[\"age\"] = 31\n",
    "print(person)\n",
    "\n",
    "removed_item = person.pop(\"city\")\n",
    "print(f\"Removed Item: {removed_item}\")\n",
    "print(person)\n",
    "\n",
    "keys = person.keys()\n",
    "values = person.values()\n",
    "print(f\"Keys: {keys}, Values: {values}\")"
   ]
  },
  {
   "cell_type": "code",
   "execution_count": 9,
   "id": "01f91740-dd16-4088-a090-962745a7d434",
   "metadata": {},
   "outputs": [
    {
     "name": "stdout",
     "output_type": "stream",
     "text": [
      "x and y: False\n",
      "x or y: True\n",
      "Not x: False\n"
     ]
    }
   ],
   "source": [
    "# Boolean Manipulation\n",
    "x = True\n",
    "y = False\n",
    "\n",
    "and_result = x and y\n",
    "print(f\"x and y: {and_result}\")\n",
    "\n",
    "or_result = x or y\n",
    "print(f\"x or y: {or_result}\")\n",
    "\n",
    "not_result = not x\n",
    "print(f\"Not x: {not_result}\")"
   ]
  },
  {
   "cell_type": "code",
   "execution_count": 7,
   "id": "7eac79a9-acc1-4c61-971f-6a8a391d2286",
   "metadata": {},
   "outputs": [
    {
     "name": "stdout",
     "output_type": "stream",
     "text": [
      "123\n",
      "123\n",
      "123.0\n",
      "45\n"
     ]
    }
   ],
   "source": [
    "# Type Conversion\n",
    "num_str = \"123\"\n",
    "num_int = int(num_str)\n",
    "print(num_int)\n",
    "\n",
    "num_to_str = str(num_int)\n",
    "print(num_to_str)\n",
    "\n",
    "num_float = float(num_int)\n",
    "print(num_float)\n",
    "\n",
    "float_num = 45.67\n",
    "converted_int = int(float_num)\n",
    "print(converted_int)"
   ]
  },
  {
   "cell_type": "code",
   "execution_count": 15,
   "id": "47fa4ef5-4356-467f-b7ae-de020c686f71",
   "metadata": {},
   "outputs": [
    {
     "name": "stdout",
     "output_type": "stream",
     "text": [
      "10 is positive.\n",
      "-5 is negative.\n",
      "0 is zero.\n",
      "The sum of the numbers is: 15\n",
      "1\n",
      "2\n",
      "3\n",
      "4\n",
      "5\n",
      "The list does not contain both even and odd numbers.\n",
      "The list contains both even and odd numbers.\n",
      "1 * 1 = 1 (Odd)\n",
      "1 * 2 = 2 (Even)\n",
      "1 * 3 = 3 (Odd)\n",
      "1 * 4 = 4 (Even)\n",
      "1 * 5 = 5 (Odd)\n",
      "2 * 1 = 2 (Even)\n",
      "2 * 2 = 4 (Even)\n",
      "2 * 3 = 6 (Even)\n",
      "2 * 4 = 8 (Even)\n",
      "2 * 5 = 10 (Even)\n",
      "3 * 1 = 3 (Odd)\n",
      "3 * 2 = 6 (Even)\n",
      "3 * 3 = 9 (Odd)\n",
      "3 * 4 = 12 (Even)\n",
      "3 * 5 = 15 (Odd)\n",
      "4 * 1 = 4 (Even)\n",
      "4 * 2 = 8 (Even)\n",
      "4 * 3 = 12 (Even)\n",
      "4 * 4 = 16 (Even)\n",
      "4 * 5 = 20 (Even)\n",
      "5 * 1 = 5 (Odd)\n",
      "5 * 2 = 10 (Even)\n",
      "5 * 3 = 15 (Odd)\n",
      "5 * 4 = 20 (Even)\n",
      "5 * 5 = 25 (Odd)\n",
      "The first even number is: 8\n",
      "No even numbers found.\n"
     ]
    }
   ],
   "source": [
    "def check_number(num):\n",
    "    if num > 0:\n",
    "        print(f\"{num} is positive.\")\n",
    "    elif num < 0:\n",
    "        print(f\"{num} is negative.\")\n",
    "    else:\n",
    "        print(f\"{num} is zero.\")\n",
    "\n",
    "check_number(10)\n",
    "check_number(-5)\n",
    "check_number(0)\n",
    "\n",
    "def sum_numbers(numbers):\n",
    "    total = 0\n",
    "    for num in numbers:\n",
    "        total += num\n",
    "    print(f\"The sum of the numbers is: {total}\")\n",
    "\n",
    "numbers = [1, 2, 3, 4, 5]\n",
    "sum_numbers(numbers)\n",
    "\n",
    "def print_numbers():\n",
    "    num = 1\n",
    "    while num <= 5:\n",
    "        print(num)\n",
    "        num += 1\n",
    "\n",
    "print_numbers()\n",
    "\n",
    "def check_even_odd(numbers):\n",
    "    has_even = False\n",
    "    has_odd = False\n",
    "\n",
    "    for num in numbers:\n",
    "        if num % 2 == 0:\n",
    "            has_even = True\n",
    "        else:\n",
    "            has_odd = True\n",
    "        \n",
    "        if has_even and has_odd:\n",
    "            break\n",
    "\n",
    "    if has_even and has_odd:\n",
    "        print(\"The list contains both even and odd numbers.\")\n",
    "    else:\n",
    "        print(\"The list does not contain both even and odd numbers.\")\n",
    "\n",
    "check_even_odd([1, 3, 5, 7, 9])\n",
    "check_even_odd([2, 4, 5, 6])\n",
    "\n",
    "def multiplication_table():\n",
    "    for i in range(1, 6):\n",
    "        for j in range(1, 6):\n",
    "            product = i * j\n",
    "            if product % 2 == 0:\n",
    "                print(f\"{i} * {j} = {product} (Even)\")\n",
    "            else:\n",
    "                print(f\"{i} * {j} = {product} (Odd)\")\n",
    "\n",
    "multiplication_table()\n",
    "\n",
    "def find_first_even(numbers):\n",
    "    for num in numbers:\n",
    "        if num % 2 == 0:\n",
    "            print(f\"The first even number is: {num}\")\n",
    "            break\n",
    "    else:\n",
    "        print(\"No even numbers found.\")\n",
    "\n",
    "find_first_even([1, 3, 5, 7, 8, 10])\n",
    "find_first_even([1, 3, 5, 7])"
   ]
  },
  {
   "cell_type": "code",
   "execution_count": null,
   "id": "01a7ea81-574a-4f8d-b04f-931d2f5aff42",
   "metadata": {},
   "outputs": [],
   "source": []
  }
 ],
 "metadata": {
  "kernelspec": {
   "display_name": "Python 3 (ipykernel)",
   "language": "python",
   "name": "python3"
  },
  "language_info": {
   "codemirror_mode": {
    "name": "ipython",
    "version": 3
   },
   "file_extension": ".py",
   "mimetype": "text/x-python",
   "name": "python",
   "nbconvert_exporter": "python",
   "pygments_lexer": "ipython3",
   "version": "3.12.4"
  }
 },
 "nbformat": 4,
 "nbformat_minor": 5
}
